{
  "nbformat": 4,
  "nbformat_minor": 0,
  "metadata": {
    "colab": {
      "provenance": [],
      "authorship_tag": "ABX9TyNRlV/AxPTIJ5Bn3WztWFOp",
      "include_colab_link": true
    },
    "kernelspec": {
      "name": "python3",
      "display_name": "Python 3"
    },
    "language_info": {
      "name": "python"
    }
  },
  "cells": [
    {
      "cell_type": "markdown",
      "metadata": {
        "id": "view-in-github",
        "colab_type": "text"
      },
      "source": [
        "<a href=\"https://colab.research.google.com/github/Dani3113R0se/SoDA/blob/main/rep_vouk.ipynb\" target=\"_parent\"><img src=\"https://colab.research.google.com/assets/colab-badge.svg\" alt=\"Open In Colab\"/></a>"
      ]
    },
    {
      "cell_type": "markdown",
      "source": [
        "# Explanation of the paper\n",
        "\n",
        "## Data"
      ],
      "metadata": {
        "id": "f7DiPiCo1GGC"
      }
    },
    {
      "cell_type": "code",
      "source": [
        "# Install necessary packages\n",
        "!pip install pandas requests bs4 lxml gdelt -q"
      ],
      "metadata": {
        "id": "eaQFvOHJ1n2m",
        "colab": {
          "base_uri": "https://localhost:8080/"
        },
        "outputId": "d2fb582e-12f5-4bf4-8bdc-0718df549e02"
      },
      "execution_count": 1,
      "outputs": [
        {
          "output_type": "stream",
          "name": "stdout",
          "text": [
            "\u001b[2K     \u001b[90m━━━━━━━━━━━━━━━━━━━━━━━━━━━━━━━━━━━━━━━━\u001b[0m \u001b[32m61.9/61.9 kB\u001b[0m \u001b[31m1.3 MB/s\u001b[0m eta \u001b[36m0:00:00\u001b[0m\n",
            "\u001b[2K   \u001b[90m━━━━━━━━━━━━━━━━━━━━━━━━━━━━━━━━━━━━━━━━\u001b[0m \u001b[32m787.4/787.4 kB\u001b[0m \u001b[31m12.4 MB/s\u001b[0m eta \u001b[36m0:00:00\u001b[0m\n",
            "\u001b[?25h"
          ]
        }
      ]
    },
    {
      "cell_type": "code",
      "source": [
        "# Let's load the GPI data\n",
        "import pandas as pd\n",
        "import requests\n",
        "from bs4 import BeautifulSoup\n",
        "from io import BytesIO\n",
        "\n",
        "# data download\n",
        "URL = \"https://github.com/Dani3113R0se/SoDA/raw/d1f409f211b698cf8aec715304efb3b87c0cee0b/replication_voukelatou/data_peace.dta\"\n",
        "response = requests.get(URL)\n",
        "response.raise_for_status()  # Verify successful download\n",
        "\n",
        "# load to pandas\n",
        "with BytesIO(response.content) as f:\n",
        "    gpi_df = pd.read_stata(f)\n",
        "\n",
        "# do we have all data\n",
        "print(gpi_df)"
      ],
      "metadata": {
        "id": "tuSSnsyd1IN8",
        "colab": {
          "base_uri": "https://localhost:8080/"
        },
        "outputId": "395b170c-0596-449c-af2b-604a414ccff5"
      },
      "execution_count": 2,
      "outputs": [
        {
          "output_type": "stream",
          "name": "stdout",
          "text": [
            "      year      country  peace     id\n",
            "0     2008  Afghanistan  3.153    1.0\n",
            "1     2008      Albania  1.247    2.0\n",
            "2     2008      Algeria  2.111    3.0\n",
            "3     2008       Angola  1.655    4.0\n",
            "4     2008    Argentina  1.403    5.0\n",
            "...    ...          ...    ...    ...\n",
            "2603  2023    Venezuela  2.086  159.0\n",
            "2604  2023      Vietnam  1.403  160.0\n",
            "2605  2023        Yemen  3.486  161.0\n",
            "2606  2023       Zambia  1.577  162.0\n",
            "2607  2023     Zimbabwe  2.006  163.0\n",
            "\n",
            "[2608 rows x 4 columns]\n"
          ]
        }
      ]
    },
    {
      "cell_type": "markdown",
      "source": [
        "## GDELT data"
      ],
      "metadata": {
        "id": "3g5-UmJ37Knt"
      }
    },
    {
      "cell_type": "code",
      "source": [
        "# Import GDELT data\n",
        "import gdelt\n",
        "import pandas as pd\n",
        "from datetime import datetime, timedelta  # Add timedelta to your import\n",
        "gd = gdelt.gdelt(version=2)\n",
        "\n",
        "# date range 2020-2023\n",
        "start_date = datetime.strptime('2020 Jan 01', '%Y %b %d') # Convert to datetime\n",
        "end_date = datetime.strptime('2023 Dec 31', '%Y %b %d')   # Convert to datetime\n",
        "\n",
        "# Define chunk size (e.g., process data month by month)\n",
        "chunk_size = timedelta(days=30)\n",
        "\n",
        "# Initialize an empty DataFrame to store aggregated results\n",
        "aggregated_data = pd.DataFrame()\n",
        "\n",
        "# loop per month\n",
        "current_start_date = start_date\n",
        "while current_start_date < end_date:\n",
        "    # end date per month\n",
        "    current_end_date = min(current_start_date + chunk_size, end_date)\n",
        "\n",
        "    # format dates\n",
        "    formatted_start_date = current_start_date.strftime('%Y %b %d')\n",
        "    formatted_end_date = current_end_date.strftime('%Y %b %d')\n",
        "\n",
        "    # Retrieve GDELT data for the current month\n",
        "    events = gd.Search(\n",
        "        [formatted_start_date, formatted_end_date],\n",
        "        table='events',\n",
        "        output='pd',\n",
        "        normcols=True,\n",
        "        coverage=True\n",
        "    )\n",
        "\n",
        "    # filter and aggregate data for the current month\n",
        "    if not events.empty:\n",
        "        filtered_events = events.query(\"actiongeocountrycode != ''\")\n",
        "        chunk_aggregated = (\n",
        "            filtered_events.groupby(['actiongeocountrycode', 'monthyear', 'eventbasecode'], as_index=False)\n",
        "            .agg(\n",
        "                No_events=('eventbasecode', 'count'),\n",
        "                Tone=('STone', 'sum'),\n",
        "                Goldstein=('SGoldsteinScale', 'sum')\n",
        "            )\n",
        "        )\n",
        "\n",
        "        # aggregated results to the df\n",
        "        aggregated_data = pd.concat([aggregated_data, chunk_aggregated], ignore_index=True)\n",
        "\n",
        "    # next chunk\n",
        "    current_start_date = current_end_date\n",
        "\n",
        "# final df\n",
        "aggregated_data = aggregated_data.sort_values(['actiongeocountrycode', 'eventbasecode', 'monthyear'])\n",
        "print(aggregated_data.head())"
      ],
      "metadata": {
        "collapsed": true,
        "id": "0aHfnKmx7J4L",
        "colab": {
          "base_uri": "https://localhost:8080/"
        },
        "outputId": "1fe591d9-65f7-40bb-dcf6-421c1d525a4e"
      },
      "execution_count": null,
      "outputs": [
        {
          "output_type": "stream",
          "name": "stdout",
          "text": [
            "here\n"
          ]
        },
        {
          "output_type": "stream",
          "name": "stderr",
          "text": [
            "/usr/local/lib/python3.11/dist-packages/gdelt/dateFuncs.py:241: UserWarning: This query will download 2976 files, and likely exhaust your memory with possibly 10s of GBs of data in this single query.Hit Ctr-C to kill this query if you do not want to continue.\n",
            "  warnings.warn(warnText)\n",
            "/usr/local/lib/python3.11/dist-packages/gdelt/dateFuncs.py:241: UserWarning: This query will download 2976 files, and likely exhaust your memory with possibly 10s of GBs of data in this single query.Hit Ctr-C to kill this query if you do not want to continue.\n",
            "  warnings.warn(warnText)\n"
          ]
        }
      ]
    },
    {
      "cell_type": "markdown",
      "source": [
        "xfsjdksffd"
      ],
      "metadata": {
        "id": "ONoTmJfQ8MIF"
      }
    },
    {
      "cell_type": "code",
      "source": [
        "print(result)"
      ],
      "metadata": {
        "id": "QgRO1jg58Lry"
      },
      "execution_count": null,
      "outputs": []
    }
  ]
}